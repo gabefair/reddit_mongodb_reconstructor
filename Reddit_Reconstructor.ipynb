{
 "cells": [
  {
   "cell_type": "code",
   "execution_count": 1,
   "metadata": {},
   "outputs": [],
   "source": [
    "import os\n",
    "import re\n",
    "import sys\n",
    "import pymongo"
   ]
  },
  {
   "cell_type": "code",
   "execution_count": 3,
   "metadata": {},
   "outputs": [
    {
     "name": "stdout",
     "output_type": "stream",
     "text": [
      "current python recursive depth limit is: 13000\n",
      "new python recursive depth limit is: 13000\n"
     ]
    }
   ],
   "source": [
    "print(\"current python recursive depth limit is: \"+ str(sys.getrecursionlimit()))\n",
    "sys.setrecursionlimit(13000)\n",
    "print(\"new python recursive depth limit is: \"+ str(sys.getrecursionlimit()))"
   ]
  },
  {
   "cell_type": "code",
   "execution_count": null,
   "metadata": {},
   "outputs": [],
   "source": [
    "start_path = os.getcwd()\n",
    "print(start_path)"
   ]
  },
  {
   "cell_type": "code",
   "execution_count": null,
   "metadata": {},
   "outputs": [],
   "source": [
    "client = MongoClient(\"mongodb://localhost:27017\")\n",
    "db = client.Reddit\n",
    "submissions_collection = db['submissions_2016']\n",
    "comments_collection = db['comments_2016']\n",
    "nested_comments = db['comments_2016_nested']"
   ]
  },
  {
   "cell_type": "code",
   "execution_count": null,
   "metadata": {},
   "outputs": [],
   "source": [
    "submissions_cursor = submissions_collection.find()\n"
   ]
  },
  {
   "cell_type": "code",
   "execution_count": 4,
   "metadata": {},
   "outputs": [],
   "source": [
    "def save_the_children(root_id,source_collection,target_collection,parent_document):\n",
    "    document = find_the_children(source_collection,target_collection,parent_document,0)\n",
    "    #print(\"looking for id: \"+ parent_document['id'] + \" in \"+ str(target_collection))\n",
    "    target_collection.update_one(\n",
    "                {\"id\":root_id},\n",
    "                { \"$push\" : { \"_child_post\": document} },\n",
    "                upsert=True\n",
    "            ).matched_count\n",
    "    return document"
   ]
  },
  {
   "cell_type": "code",
   "execution_count": null,
   "metadata": {},
   "outputs": [],
   "source": [
    "def find_the_children(source_collection,target_collection,parent_document,depth):\n",
    "    depth = depth +1\n",
    "    childs_parent_id= \"t1_\"+parent_document['id']\n",
    "    \n",
    "    child_cursor = source_collection.find({\"parent_id\": childs_parent_id})\n",
    "    number_of_children = 0\n",
    "    for child_document in child_cursor:\n",
    "        number_of_children = number_of_children + 1\n",
    "        parent_document['_child_post'] = find_the_children(source_collection,target_collection,child_document,depth)\n",
    "        parent_document['_number_of_children'] = number_of_children\n",
    "    return parent_document"
   ]
  },
  {
   "cell_type": "code",
   "execution_count": null,
   "metadata": {},
   "outputs": [],
   "source": [
    "#Create nesting collection\n",
    "number_of_submissions = 0\n",
    "total_depth_to_end = 0\n",
    "total_children_count = 0\n",
    "\n",
    "for document in submissions_cursor:\n",
    "    number_of_submissions += 1\n",
    "    updt(true_cursor.count(), number_of_submissions)\n",
    "    thread_metrics = {}\n",
    "    link_id = document['name']\n",
    "    text=document['selftext']\n",
    "    children_count =0\n",
    "    depth_to_end = 0\n",
    "    if ( text == '[removed]' or text == '[deleted]'):\n",
    "        continue\n",
    "    else:\n",
    "        nested_comments.replace_one({\"_id\": document['_id']},document, upsert=True) #add post parent\n",
    "        \n",
    "        child_cursor = comments_collection.find({\"parent_id\": document['name']})\n",
    "        for child_document in child_cursor:\n",
    "            children_count = children_count + 1\n",
    "            new_document= save_the_children(document['id'],comments_collection,nested_comments,child_document)\n",
    "            try:\n",
    "                childs_depth = new_document['_conversation_depth']\n",
    "                if(type(childs_depth)==int):\n",
    "                    if(depth_to_end<childs_depth):\n",
    "                        depth_to_end=childs_depth\n",
    "            except KeyError:\n",
    "                pass            \n",
    "\n",
    "        nested_comments.update_one(\n",
    "            {\"id\": document['id']},\n",
    "            {\"$set\":{\"_length_of_comment\": len(document['selftext'])}}\n",
    "        )\n",
    "        \n",
    "        nested_comments.update_one(\n",
    "            {\"id\": document['id']},\n",
    "            {\"$set\":{\"_number_of_children\": children_count}}\n",
    "        )\n",
    "        total_children_count = + children_count\n",
    "        \n",
    "print(\"Total number of submissions: \" + str(submissions.count()))\n",
    "print(\"Average length of children: \" + str(total_children_count/number_of_submissions))"
   ]
  },
  {
   "cell_type": "code",
   "execution_count": null,
   "metadata": {},
   "outputs": [],
   "source": []
  },
  {
   "cell_type": "code",
   "execution_count": null,
   "metadata": {},
   "outputs": [],
   "source": []
  },
  {
   "cell_type": "code",
   "execution_count": null,
   "metadata": {},
   "outputs": [],
   "source": []
  },
  {
   "cell_type": "code",
   "execution_count": null,
   "metadata": {},
   "outputs": [],
   "source": []
  },
  {
   "cell_type": "code",
   "execution_count": null,
   "metadata": {},
   "outputs": [],
   "source": []
  },
  {
   "cell_type": "code",
   "execution_count": null,
   "metadata": {},
   "outputs": [],
   "source": []
  },
  {
   "cell_type": "code",
   "execution_count": null,
   "metadata": {},
   "outputs": [],
   "source": []
  }
 ],
 "metadata": {
  "kernelspec": {
   "display_name": "Python 3",
   "language": "python",
   "name": "python3"
  },
  "language_info": {
   "codemirror_mode": {
    "name": "ipython",
    "version": 3
   },
   "file_extension": ".py",
   "mimetype": "text/x-python",
   "name": "python",
   "nbconvert_exporter": "python",
   "pygments_lexer": "ipython3",
   "version": "3.6.4"
  }
 },
 "nbformat": 4,
 "nbformat_minor": 2
}
